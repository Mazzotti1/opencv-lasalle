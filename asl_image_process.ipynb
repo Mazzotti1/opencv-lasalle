{
 "cells": [
  {
   "cell_type": "markdown",
   "id": "bd35784f",
   "metadata": {},
   "source": [
    "# Pré-processamento de Imagens: Redimensionamento e Conversão para Escala de Cinza\n",
    "\n",
    "Nessa etapa, vai ser realizado duas operações principais em uma imagem do dataset para as letras A, B e C:\n",
    "\n",
    "1. **Redimensionamento das Imagens**: Todas as imagens serão redimensionadas para um tamanho fixo de `200x200 px` para ter uma consistência na análise posterior.\n",
    "2. **Conversão para Escala de Cinza**: As imagens coloridas serão convertidas para **escala de cinza** para simplificar a análise, removendo as informações de cor.\n",
    "\n",
    "## Passos:\n",
    "\n",
    "1. **Leitura das Imagens**: As imagens de cada letra (A, B, C) foram lidas a partir da pasta correspondente.\n",
    "2. **Redimensionamento**: Cada imagem foi redimensionada para `200x200 px` usando o OpenCV.\n",
    "3. **Conversão para Escala de Cinza**: As imagens foram convertidas para escala de cinza para reduzir a complexidade e facilitar o processamento posterior."
   ]
  },
  {
   "cell_type": "code",
   "execution_count": null,
   "id": "62718da6",
   "metadata": {},
   "outputs": [],
   "source": [
    "import cv2\n",
    "import os\n",
    "import matplotlib.pyplot as plt\n",
    "from pathlib import Path\n",
    "\n",
    "base_path = Path(\"dataset\")\n",
    "letters = ['A', 'B', 'C']\n",
    "output_path = Path(\"images_result\")\n",
    "\n",
    "def resize(path_img):\n",
    "    img = cv2.imread(str(path_img))\n",
    "    img_resize = cv2.resize(img, (200, 200))\n",
    "    return img_resize\n",
    "\n",
    "def to_gray_scale(img):\n",
    "    img_gray = cv2.cvtColor(img, cv2.COLOR_BGR2GRAY)\n",
    "    return img_gray\n",
    "\n",
    "def process_img(path_img):\n",
    "    img_resized = resize(path_img)\n",
    "    img_gray_resized = to_gray_scale(img_resized)\n",
    "    return img_gray_resized\n",
    "\n",
    "for letter in letters:\n",
    "    dir = base_path / letter\n",
    "\n",
    "    img = os.listdir(dir)[0]\n",
    "    img_path = dir / img\n",
    "\n",
    "    processed_img = process_img(img_path)\n",
    "\n",
    "    plt.imshow(processed_img, cmap='gray')\n",
    "    plt.title(f'Letra {letter}')\n",
    "    plt.axis('off')\n",
    "    plt.show()\n",
    "\n",
    "    out_file = output_path / 'resized_gray' / f'{letter}.png'\n",
    "    cv2.imwrite(str(out_file), processed_img)\n"
   ]
  }
 ],
 "metadata": {
  "kernelspec": {
   "display_name": "Python 3",
   "language": "python",
   "name": "python3"
  },
  "language_info": {
   "codemirror_mode": {
    "name": "ipython",
    "version": 3
   },
   "file_extension": ".py",
   "mimetype": "text/x-python",
   "name": "python",
   "nbconvert_exporter": "python",
   "pygments_lexer": "ipython3",
   "version": "3.13.1"
  }
 },
 "nbformat": 4,
 "nbformat_minor": 5
}
